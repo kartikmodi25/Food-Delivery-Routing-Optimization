{
  "nbformat": 4,
  "nbformat_minor": 0,
  "metadata": {
    "colab": {
      "name": "Swiggy Assignment",
      "provenance": [],
      "collapsed_sections": []
    },
    "kernelspec": {
      "name": "python3",
      "display_name": "Python 3"
    },
    "language_info": {
      "name": "python"
    }
  },
  "cells": [
    {
      "cell_type": "markdown",
      "source": [
        "## **Swiggy Data Science Internship Task**\n",
        "\n",
        "\n",
        "\n",
        "# Context:\n",
        "\n",
        "---\n",
        "\n",
        "In last few years the food e-catering business have grown \n",
        "exponentially. This leads to increase in demand for better solutions which involve assigning orders to Delivery Executives optimally. This notebook deals a solution in the similar direction with the given data.\n",
        "\n",
        "\n",
        "# Porblem: \n",
        "\n",
        "---\n",
        "\n",
        "This problem is an extenstion of Vehicle Routing Problem. The added constraints are the capacity of vehicle, multiple pickup-delivery locations. \n",
        "\n",
        "# Solution: \n",
        "\n",
        "---\n",
        "\n",
        "During the last 50+ years a lot of research has been done on solving Vehicle Routing Problem. This notebook deals with one of the solutions which is implemented in the Google *ortools* library.\n",
        "This problem basically deals with trying out multiple combinations to get the smallest path. \n",
        "\n",
        "The alogorithm used in this notebook is local search options which finds an optimal solution. The time complexity is very hight as it usually work well for small number of delieveres(upto 15).\n",
        "\n",
        "Since the data size is very small (20 deliveries) the implemented algorithm is sufficient to find out the optimal results with given constraints on maximum capacity and multiple pickup-deliveries.\n",
        "\n",
        "\n",
        "# Tools Used: \n",
        "\n",
        "---\n",
        "Google Developer OR Tools, pandas, math\n",
        "\n",
        "# Assumptions: \n",
        "\n",
        "---\n",
        "\n",
        "1. Since the distance coordinates are given in (lat,lon) format, I have used the \"Haversine\" formulat to calculate the distance between any two points.\n",
        "\n",
        "2. To simplify the data the *order_id* are assigned indices in range [1,20] and correspondingly the *rest_id* are assigned indices in range [21, 40]. Any *rest_id* correspond to *order_id + 20*\n",
        "\n",
        "3. Each restaurant already have at least 1 delievery executive. Since this algorithm uses a depot station which initially have all the delivery partners. The DE starts from depot -> take order -> deliever -> go back to depot. Since we are dealing with multiple depots and to simplify the problem the ditance from depot to any restaurant or order location is assigned 0 so that it is not taken into consideration. \n",
        "\n",
        "4. The solution tries to minimize the maximum distance travelled by any DE and then calculates the total distance travelled by every DE. The ditance parameter is set to the maximum distance between pickup-delivery location which finally also reduces the total distance travelled by all delievery executives.\n",
        "\n",
        "Relevant comments have been added with the code snippets."
      ],
      "metadata": {
        "id": "i0_IW1KAwsuz"
      }
    },
    {
      "cell_type": "code",
      "execution_count": 14,
      "metadata": {
        "colab": {
          "base_uri": "https://localhost:8080/"
        },
        "id": "Ldl6Tkrqbpus",
        "outputId": "5e09af69-16b9-4542-a0ce-c113e007e621"
      },
      "outputs": [
        {
          "output_type": "stream",
          "name": "stdout",
          "text": [
            "Looking in indexes: https://pypi.org/simple, https://us-python.pkg.dev/colab-wheels/public/simple/\n",
            "Requirement already satisfied: ortools in /usr/local/lib/python3.7/dist-packages (9.3.10497)\n",
            "Requirement already satisfied: protobuf>=3.19.4 in /usr/local/lib/python3.7/dist-packages (from ortools) (4.21.1)\n",
            "Requirement already satisfied: numpy>=1.13.3 in /usr/local/lib/python3.7/dist-packages (from ortools) (1.21.6)\n",
            "Requirement already satisfied: absl-py>=0.13 in /usr/local/lib/python3.7/dist-packages (from ortools) (1.0.0)\n",
            "Requirement already satisfied: six in /usr/local/lib/python3.7/dist-packages (from absl-py>=0.13->ortools) (1.15.0)\n"
          ]
        }
      ],
      "source": [
        "\"\"\"Importing Google ortools and other relevant libraries\"\"\"\n",
        "!pip install ortools\n",
        "import math\n",
        "from math import cos, asin, sqrt, pi\n",
        "import pandas as pd\n",
        "import ortools\n",
        "from ortools.constraint_solver import routing_enums_pb2\n",
        "from ortools.constraint_solver import pywrapcp\n",
        "import pandas as pd"
      ]
    },
    {
      "cell_type": "code",
      "source": [
        "\"\"\"Haversine formula to calculate distance between two points with lat lon given\"\"\"\n",
        "def distance(lat1, lon1, lat2, lon2):\n",
        "    p = pi/180\n",
        "    a = 0.5 - cos((lat2-lat1)*p)/2 + cos(lat1*p) * cos(lat2*p) * (1-cos((lon2-lon1)*p))/2\n",
        "    return 12742 * asin(sqrt(a))"
      ],
      "metadata": {
        "id": "Nv9VnaHOrv-n"
      },
      "execution_count": 15,
      "outputs": []
    },
    {
      "cell_type": "code",
      "source": [
        "\"\"\"Creating data into relevant format to that of the routing model\"\"\"\n",
        "file_path = \"/content/sample_data_set_assignment_v6.xlsx\"\n",
        "data = pd.read_excel(file_path);\n",
        "\n",
        "# Assigning new indices to rest_id and order_id\n",
        "\n",
        "for i in range(data.shape[0]):\n",
        "  data['order_id'][i] = i + 1;\n",
        "  data['rest_id'][i ] = i + 1 + data.shape[0];\n",
        "\n",
        "# Putting all the location of restaurants and orders in a dictonary to easily calculate distance between any two locations\n",
        "dict = {}\n",
        "for i in range(data.shape[0]):\n",
        "  dict[data['rest_id'][i]] = data['rest_location'][i]\n",
        "  dict[data['order_id'][i]] = data['cust_location'][i]\n",
        "\n",
        "cols = 41\n",
        "rows = cols\n",
        "mx = 0\n",
        "\n",
        "# Creating the distance matrix for distance between all pairs of locations\n",
        "arr = [[0 for i in range(cols)] for j in range(rows)]\n",
        "for i in range (1, 41):\n",
        "  for j in range(1, 41):\n",
        "    c1 = dict[i].split(',')\n",
        "    c2 = dict[j].split(',')\n",
        "    arr[i][j] = math.floor(distance(float(c1[0]), float(c1[1]), float(c2[0]), float(c2[1])) * 1000)\n",
        "    arr[j][i] = arr[i][j]\n",
        "\n",
        "# Calculating the maximum distance between all pickup-delivery location\n",
        "for i in range (1, 21):\n",
        "  c1 = dict[i].split(',')\n",
        "  c2 = dict[i+20].split(',')\n",
        "  mx = max(math.floor(distance(float(c1[0]), float(c1[1]), float(c2[0]), float(c2[1])) * 1000), mx)\n"
      ],
      "metadata": {
        "colab": {
          "base_uri": "https://localhost:8080/"
        },
        "id": "1TSpi1Q6z7sr",
        "outputId": "51002c1b-29a3-46ab-eda7-0182d66269be"
      },
      "execution_count": 16,
      "outputs": [
        {
          "output_type": "stream",
          "name": "stderr",
          "text": [
            "/usr/local/lib/python3.7/dist-packages/ipykernel_launcher.py:8: SettingWithCopyWarning: \n",
            "A value is trying to be set on a copy of a slice from a DataFrame\n",
            "\n",
            "See the caveats in the documentation: https://pandas.pydata.org/pandas-docs/stable/user_guide/indexing.html#returning-a-view-versus-a-copy\n",
            "  \n",
            "/usr/local/lib/python3.7/dist-packages/ipykernel_launcher.py:9: SettingWithCopyWarning: \n",
            "A value is trying to be set on a copy of a slice from a DataFrame\n",
            "\n",
            "See the caveats in the documentation: https://pandas.pydata.org/pandas-docs/stable/user_guide/indexing.html#returning-a-view-versus-a-copy\n",
            "  if __name__ == '__main__':\n"
          ]
        }
      ]
    },
    {
      "cell_type": "code",
      "source": [
        "# Creating the data model to feed into the pywrapcp RoutingModel routing manager\n",
        "def create_data_model():\n",
        "    \"\"\"Stores the data for the problem.\"\"\"\n",
        "    data = {}\n",
        "    data['distance_matrix'] = arr\n",
        "    data['demands'] = [0]*41\n",
        "    for i in range(1, 21):\n",
        "      data['demands'][i] = -1;\n",
        "      data['demands'][i+20] = 1;\n",
        "    arr2 = [[0 for i in range(2)] for j in range(20)]\n",
        "    for i in range (0, 20):\n",
        "      arr2[i][0] = i + 1 + 20;\n",
        "      arr2[i][1] = i + 1;\n",
        "    data['pickups_deliveries'] = arr2\n",
        "    data['vehicle_capacities'] = [3,3,3,3,3,3,3,3,3,3,3,3,3,3,3,3,3,3,3,3]\n",
        "    data['num_vehicles'] = 20\n",
        "    data['depot'] = 0\n",
        "    return data\n",
        "data = create_data_model()"
      ],
      "metadata": {
        "id": "Fx1B4aQgbuCU"
      },
      "execution_count": 17,
      "outputs": []
    },
    {
      "cell_type": "code",
      "source": [
        "# Function to print the opitmal paths of every DE and distance travelled with all constraints\n",
        "def print_solution(data, manager, routing, assignment):\n",
        "    \"\"\"Prints assignment on console.\"\"\"\n",
        "    total_distance = 0\n",
        "    for vehicle_id in range(data['num_vehicles']):\n",
        "        index = routing.Start(vehicle_id)\n",
        "        plan_output = 'Route for vehicle {}:\\n'.format(vehicle_id)\n",
        "        route_distance = 0\n",
        "        while not routing.IsEnd(index):\n",
        "            if(manager.IndexToNode(index) != 0):\n",
        "              plan_output += ' {} -> '.format(manager.IndexToNode(index))\n",
        "            previous_index = index\n",
        "            index = assignment.Value(routing.NextVar(index))\n",
        "            if(manager.IndexToNode(index) != 0):\n",
        "              route_distance += routing.GetArcCostForVehicle(\n",
        "                  previous_index, index, vehicle_id)\n",
        "        # plan_output += '{}\\n'.format(manager.IndexToNode(index))\n",
        "        plan_output += 'Distance of the route: {}m\\n'.format(route_distance)\n",
        "        print(plan_output)\n",
        "        total_distance += route_distance\n",
        "    print('Total Distance of all routes: {}m'.format(total_distance))"
      ],
      "metadata": {
        "id": "4UEvtjtHcU5Q"
      },
      "execution_count": 18,
      "outputs": []
    },
    {
      "cell_type": "code",
      "source": [
        "# Function to initialize the Routing model and calculat the parameters for routing model which minimizes the total cost.\n",
        "def main():\n",
        "    # Instantiate the data problem.\n",
        "    data = create_data_model()\n",
        "\n",
        "    # Create the routing index manager.\n",
        "    manager = pywrapcp.RoutingIndexManager(len(data['distance_matrix']), data['num_vehicles'], data['depot'])\n",
        "\n",
        "    # Create Routing Model.\n",
        "    routing = pywrapcp.RoutingModel(manager)\n",
        "\n",
        "    # Create and register a transit callback.\n",
        "    def distance_callback(from_index, to_index):\n",
        "        \"\"\"Returns the distance between the two nodes.\"\"\"\n",
        "        # Convert from routing variable Index to distance matrix NodeIndex.\n",
        "        from_node = manager.IndexToNode(from_index)\n",
        "        to_node = manager.IndexToNode(to_index)\n",
        "        return data['distance_matrix'][from_node][to_node]\n",
        "\n",
        "    transit_callback_index = routing.RegisterTransitCallback(distance_callback)\n",
        "    routing.SetArcCostEvaluatorOfAllVehicles(transit_callback_index)\n",
        "\n",
        "    # Add Distance constraint.\n",
        "    dimension_name = 'Distance'\n",
        "    routing.AddDimension(\n",
        "        transit_callback_index,\n",
        "        0,  # no slack\n",
        "        mx,  # vehicle maximum travel distance\n",
        "        True,  # start cumul to zero\n",
        "        dimension_name)\n",
        "    distance_dimension = routing.GetDimensionOrDie(dimension_name)\n",
        "    distance_dimension.SetGlobalSpanCostCoefficient(100)\n",
        "\n",
        "    # Add Capacity constraint.\n",
        "    def demand_callback(from_index):\n",
        "        \"\"\"Returns the demand of the node.\"\"\"\n",
        "        # Convert from routing variable Index to demands NodeIndex.\n",
        "        from_node = manager.IndexToNode(from_index)\n",
        "        return data['demands'][from_node]\n",
        "\n",
        "    demand_callback_index = routing.RegisterUnaryTransitCallback(demand_callback)\n",
        "    routing.AddDimensionWithVehicleCapacity(\n",
        "        demand_callback_index,\n",
        "        0,  # null capacity slack\n",
        "        data['vehicle_capacities'],  # vehicle maximum capacities\n",
        "        True,  # start cumul to zero\n",
        "        'Capacity')\n",
        "\n",
        "    # Define Transportation Requests.\n",
        "    for request in data['pickups_deliveries']:\n",
        "        pickup_index = manager.NodeToIndex(request[0])\n",
        "        delivery_index = manager.NodeToIndex(request[1])\n",
        "        routing.AddPickupAndDelivery(pickup_index, delivery_index)\n",
        "        routing.solver().Add(routing.VehicleVar(pickup_index) == routing.VehicleVar(delivery_index))\n",
        "        routing.solver().Add(distance_dimension.CumulVar(pickup_index) <= distance_dimension.CumulVar(delivery_index))\n",
        "\n",
        "    # Setting local search metaheuristic.\n",
        "    search_parameters = pywrapcp.DefaultRoutingSearchParameters()\n",
        "    search_parameters.local_search_metaheuristic = (\n",
        "    routing_enums_pb2.LocalSearchMetaheuristic.GUIDED_LOCAL_SEARCH)\n",
        "    search_parameters.time_limit.seconds = 1\n",
        "    search_parameters.log_search = True\n",
        "    # search_parameters.time_limit.seconds = 300\n",
        "\n",
        "    # Solve the problem.\n",
        "    assignment = routing.SolveWithParameters(search_parameters)\n",
        "\n",
        "    # Print solution on console.\n",
        "    if assignment:\n",
        "        print_solution(data, manager, routing, assignment)\n"
      ],
      "metadata": {
        "id": "ynPfnz5_cLzO"
      },
      "execution_count": 29,
      "outputs": []
    },
    {
      "cell_type": "code",
      "source": [
        "# Printing the final paths of all DE's\n",
        "if __name__ == '__main__':\n",
        "    main()"
      ],
      "metadata": {
        "id": "sb2y_0frcIHh",
        "colab": {
          "base_uri": "https://localhost:8080/"
        },
        "outputId": "0d8cb3e0-5723-4ffb-b64b-44ffc4711b87"
      },
      "execution_count": 30,
      "outputs": [
        {
          "output_type": "stream",
          "name": "stdout",
          "text": [
            "Route for vehicle 0:\n",
            " 38 ->  25 ->  18 ->  5 -> Distance of the route: 3172m\n",
            "\n",
            "Route for vehicle 1:\n",
            " 35 ->  15 -> Distance of the route: 592m\n",
            "\n",
            "Route for vehicle 2:\n",
            " 33 ->  13 -> Distance of the route: 626m\n",
            "\n",
            "Route for vehicle 3:\n",
            " 26 ->  6 -> Distance of the route: 1035m\n",
            "\n",
            "Route for vehicle 4:\n",
            " 27 ->  37 ->  7 ->  17 -> Distance of the route: 3060m\n",
            "\n",
            "Route for vehicle 5:\n",
            " 30 ->  10 -> Distance of the route: 1229m\n",
            "\n",
            "Route for vehicle 6:\n",
            " 23 ->  3 -> Distance of the route: 1413m\n",
            "\n",
            "Route for vehicle 7:\n",
            " 39 ->  19 -> Distance of the route: 1597m\n",
            "\n",
            "Route for vehicle 8:\n",
            " 24 ->  4 -> Distance of the route: 1739m\n",
            "\n",
            "Route for vehicle 9:\n",
            " 29 ->  9 -> Distance of the route: 1951m\n",
            "\n",
            "Route for vehicle 10:\n",
            " 32 ->  12 -> Distance of the route: 2037m\n",
            "\n",
            "Route for vehicle 11:\n",
            " 40 ->  20 -> Distance of the route: 2147m\n",
            "\n",
            "Route for vehicle 12:\n",
            " 34 ->  14 -> Distance of the route: 2168m\n",
            "\n",
            "Route for vehicle 13:\n",
            " 21 ->  1 -> Distance of the route: 2181m\n",
            "\n",
            "Route for vehicle 14:\n",
            " 36 ->  16 -> Distance of the route: 2356m\n",
            "\n",
            "Route for vehicle 15:\n",
            " 31 ->  11 -> Distance of the route: 1958m\n",
            "\n",
            "Route for vehicle 16:\n",
            " 28 ->  8 -> Distance of the route: 4212m\n",
            "\n",
            "Route for vehicle 17:\n",
            " 22 ->  2 -> Distance of the route: 4324m\n",
            "\n",
            "Route for vehicle 18:\n",
            "Distance of the route: 0m\n",
            "\n",
            "Route for vehicle 19:\n",
            "Distance of the route: 0m\n",
            "\n",
            "Total Distance of all routes: 37797m\n"
          ]
        }
      ]
    },
    {
      "cell_type": "markdown",
      "source": [
        "## Results:\n",
        "\n",
        "The minimum distance to be travelled with 20 DE's availabe is 37.797 km. The total cost of travel will be Rs. 113.\n",
        "The paths of each DE are mentioned above.\n",
        "\n",
        "Some possible changes to manipulate the results can be:\n",
        "1. To minimize the total DE's the maximum distance allowed parameter should be increased accordingly. \n",
        "\n",
        "2. The capacity of DE's can be changed in individual basis.\n",
        "\n",
        "3. Time Constraints can also be added as another dimension in the routing model. \n",
        "\n",
        "4. The results obtained depends on the time limit the algorithm is allowed to run. The cost usually reduces with more time allowed. The solution presented here works within 1s. The results obtaied when time limit was set upto 60s were also the same.\n",
        "\n",
        "Author's Comments:\n",
        "\n",
        "I have treated this Routing model as a Black Box. While there is lot to explore and read about the solutions for such problem, due to time constraints I decided to proceed this way. I am ready to dive deep into the theory behind the algorithm with sufficient time available.\n",
        "\n",
        "## THANKS!"
      ],
      "metadata": {
        "id": "PT7T2aev7zmA"
      }
    }
  ]
}
